{
 "cells": [
  {
   "cell_type": "code",
   "execution_count": 0,
   "metadata": {
    "ExecuteTime": {
     "end_time": "2024-12-16T20:17:44.447685Z",
     "start_time": "2024-12-16T20:17:44.150144Z"
    },
    "application/vnd.databricks.v1+cell": {
     "cellMetadata": {},
     "inputWidgets": {},
     "nuid": "348578dc-599c-4e4e-8e03-c0f2a8c8bab0",
     "showTitle": false,
     "tableResultSettingsMap": {},
     "title": ""
    }
   },
   "outputs": [],
   "source": [
    "try:\n",
    "  import googlemaps\n",
    "  \n",
    "  # For decoding Google's directions API polyline\n",
    "  import polyline \n",
    "  from shapely.geometry import Point, LineString\n",
    "  \n",
    "  googlemaps_module = True\n",
    "except ImportError:\n",
    "  googlemaps_module = False"
   ]
  },
  {
   "cell_type": "code",
   "execution_count": 0,
   "metadata": {
    "ExecuteTime": {
     "end_time": "2024-12-16T20:17:45.356860Z",
     "start_time": "2024-12-16T20:17:45.034382Z"
    },
    "application/vnd.databricks.v1+cell": {
     "cellMetadata": {},
     "inputWidgets": {},
     "nuid": "166acd45-bc5e-417c-a95c-9adf6c0fd7bf",
     "showTitle": false,
     "tableResultSettingsMap": {},
     "title": ""
    }
   },
   "outputs": [],
   "source": [
    "import socket\n",
    "import time\n",
    "import numpy as np\n",
    "import re\n",
    "from datetime import datetime\n",
    "import pandas as pd\n",
    "socket.setdefaulttimeout(120)"
   ]
  },
  {
   "cell_type": "code",
   "execution_count": 0,
   "metadata": {
    "ExecuteTime": {
     "end_time": "2024-11-14T18:59:54.851564Z",
     "start_time": "2024-11-14T18:59:54.845939Z"
    },
    "application/vnd.databricks.v1+cell": {
     "cellMetadata": {},
     "inputWidgets": {},
     "nuid": "151907a8-cc1c-4c2f-a8a2-0ed7db516ffd",
     "showTitle": false,
     "tableResultSettingsMap": {},
     "title": ""
    }
   },
   "outputs": [],
   "source": [
    "import googlemaps\n",
    "import pandas as pd\n",
    "import numpy as np\n",
    "import time\n",
    "\n",
    "class GoogleMaps:\n",
    "    \"\"\"A class to encapsulate Google Maps geocoding for retrieving latitude and longitude based on flexible address combinations.\"\"\"\n",
    "\n",
    "    def __init__(self):\n",
    "        \"\"\"Initialize a Google Maps server connection\n",
    "\n",
    "        ARGUMENTS:\n",
    "        secret_scope : str -- Databricks secret scope to get authentication details\n",
    "        \"\"\"\n",
    "        google_api_key = ''\n",
    "        self.gmaps = googlemaps.Client(key=google_api_key)\n",
    "\n",
    "    def get_coordinates(self, row, address_fields):\n",
    "        \"\"\"Constructs an address from row fields and retrieves coordinates.\n",
    "\n",
    "        ARGUMENTS:\n",
    "        row           : pd.Series -- Row of a DataFrame containing address fields.\n",
    "        address_fields: list -- List of column names to combine for address (e.g., ['street', 'barangay', 'city', 'province']).\n",
    "\n",
    "        RETURNS:\n",
    "        pd.Series containing latitude and longitude if found, otherwise None.\n",
    "        \"\"\"\n",
    "        address_combinations = [\n",
    "            \", \".join([str(row[field]) for field in address_fields if pd.notnull(row[field])])\n",
    "        ]\n",
    "\n",
    "        for address in address_combinations:\n",
    "            if address.strip():  # Ensure address is not empty\n",
    "                try:\n",
    "                    request = self.gmaps.geocode(address)\n",
    "                    if request and 'geometry' in request[0]:\n",
    "                        location = request[0]['geometry']['location']\n",
    "                        return pd.Series([location['lat'], location['lng']])\n",
    "                except Exception as e:\n",
    "                    print(f\"Error fetching coordinates for address '{address}': {e}\")\n",
    "                    continue\n",
    "        \n",
    "        # If no valid coordinates found, return None\n",
    "        return pd.Series([None, None])\n",
    "\n",
    "    def add_coordinates(self, df, address_fields):\n",
    "        \"\"\"Adds Latitude and Longitude columns to the DataFrame based on address fields.\n",
    "\n",
    "        ARGUMENTS:\n",
    "        df            : pd.DataFrame -- DataFrame with address fields to geocode.\n",
    "        address_fields: list -- List of column names to combine for address (e.g., ['street', 'barangay', 'city', 'province']).\n",
    "\n",
    "        RETURNS:\n",
    "        pd.DataFrame with added 'Latitude' and 'Longitude' columns.\n",
    "        \"\"\"\n",
    "        # Apply get_coordinates function to each row of DataFrame and add Latitude and Longitude\n",
    "        df[['Latitude', 'Longitude']] = df.apply(self.get_coordinates, axis=1, address_fields=address_fields)\n",
    "        return df\n"
   ]
  },
  {
   "cell_type": "code",
   "execution_count": 0,
   "metadata": {
    "ExecuteTime": {
     "end_time": "2024-11-14T18:59:50.399565Z",
     "start_time": "2024-11-14T18:59:50.113011Z"
    },
    "application/vnd.databricks.v1+cell": {
     "cellMetadata": {},
     "inputWidgets": {},
     "nuid": "20dc8dc3-44d6-4f2b-a9bf-5ebc108cc497",
     "showTitle": false,
     "tableResultSettingsMap": {},
     "title": ""
    }
   },
   "outputs": [],
   "source": [
    "# Example usage:\n",
    "gmaps = GoogleMaps()\n",
    "address_fields = ['street', 'barangay', 'city', 'province']  # Adjust based on your DataFrame\n",
    "df = pd.read_excel(\"your_file.xlsx\")\n",
    "\n",
    "# Add coordinates\n",
    "df_with_coords = gmaps.get_coordinates(df, address_fields)\n",
    "\n",
    "# Save the updated DataFrame to a new Excel file\n",
    "df_with_coords.to_excel(\"updated_with_coordinates.xlsx\", index=False)\n"
   ]
  },
  {
   "cell_type": "code",
   "execution_count": 0,
   "metadata": {
    "ExecuteTime": {
     "end_time": "2024-11-14T19:01:32.285434Z",
     "start_time": "2024-11-14T19:01:32.278424Z"
    },
    "application/vnd.databricks.v1+cell": {
     "cellMetadata": {},
     "inputWidgets": {},
     "nuid": "ad231484-4fa9-4089-857f-b37ce3a0fd34",
     "showTitle": false,
     "tableResultSettingsMap": {},
     "title": ""
    }
   },
   "outputs": [],
   "source": [
    "gmaps = googlemaps.Client(key='')"
   ]
  },
  {
   "cell_type": "code",
   "execution_count": 0,
   "metadata": {
    "ExecuteTime": {
     "end_time": "2024-11-15T03:09:56.225477Z",
     "start_time": "2024-11-15T03:09:56.075182Z"
    },
    "application/vnd.databricks.v1+cell": {
     "cellMetadata": {},
     "inputWidgets": {},
     "nuid": "502c19d9-4584-4bdb-8181-0cf7657ea830",
     "showTitle": false,
     "tableResultSettingsMap": {},
     "title": ""
    }
   },
   "outputs": [],
   "source": [
    "gmaps.geocode('D SAMONTE STREET, SAN LORENZO (POBLACION), LAOAG CITY, ILOCOS NORTE', 'textquery')"
   ]
  },
  {
   "cell_type": "code",
   "execution_count": 0,
   "metadata": {
    "application/vnd.databricks.v1+cell": {
     "cellMetadata": {},
     "inputWidgets": {},
     "nuid": "8ebb0384-3567-44b3-ad13-229afdb2e954",
     "showTitle": false,
     "tableResultSettingsMap": {},
     "title": ""
    }
   },
   "outputs": [],
   "source": []
  }
 ],
 "metadata": {
  "application/vnd.databricks.v1+notebook": {
   "computePreferences": null,
   "dashboards": [],
   "environmentMetadata": null,
   "language": "python",
   "notebookMetadata": {
    "pythonIndentUnit": 4
   },
   "notebookName": "googlemap",
   "widgets": {}
  },
  "kernelspec": {
   "display_name": "Python 3",
   "language": "python",
   "name": "python3"
  },
  "language_info": {
   "name": "python"
  }
 },
 "nbformat": 4,
 "nbformat_minor": 0
}
