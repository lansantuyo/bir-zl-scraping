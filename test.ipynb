{
 "cells": [
  {
   "cell_type": "code",
   "metadata": {
    "application/vnd.databricks.v1+cell": {
     "cellMetadata": {
      "byteLimit": 2048000,
      "rowLimit": 10000
     },
     "inputWidgets": {},
     "nuid": "9d65b227-7391-4445-92a5-f79dfb6b3943",
     "showTitle": false,
     "title": ""
    },
    "ExecuteTime": {
     "end_time": "2024-10-22T20:09:42.211522Z",
     "start_time": "2024-10-22T20:09:41.734958Z"
    }
   },
   "source": [
    "import numpy as np\n",
    "import pandas as pd\n",
    "import os\n",
    "import xlrd\n",
    "import xlwt\n",
    "import re"
   ],
   "outputs": [],
   "execution_count": 1
  },
  {
   "cell_type": "code",
   "metadata": {
    "application/vnd.databricks.v1+cell": {
     "cellMetadata": {
      "byteLimit": 2048000,
      "rowLimit": 10000
     },
     "inputWidgets": {},
     "nuid": "f644364e-c68e-4016-9a9a-7acbbe03088f",
     "showTitle": false,
     "title": ""
    },
    "ExecuteTime": {
     "end_time": "2024-10-22T20:09:42.215040Z",
     "start_time": "2024-10-22T20:09:42.212528Z"
    }
   },
   "source": [
    "excel_files = [f for f in os.listdir(\"data/\")]"
   ],
   "outputs": [],
   "execution_count": 2
  },
  {
   "cell_type": "code",
   "metadata": {
    "application/vnd.databricks.v1+cell": {
     "cellMetadata": {
      "byteLimit": 2048000,
      "rowLimit": 10000
     },
     "inputWidgets": {},
     "nuid": "0cb88d35-b31c-4113-9936-418456cd96db",
     "showTitle": false,
     "title": ""
    },
    "ExecuteTime": {
     "end_time": "2024-10-22T20:09:42.519874Z",
     "start_time": "2024-10-22T20:09:42.215040Z"
    }
   },
   "source": [
    "file = 'RDO No. 105 - Surigao City, Surigao del Norte.xls'\n",
    "test = pd.ExcelFile(f\"data/{file}\")"
   ],
   "outputs": [],
   "execution_count": 3
  },
  {
   "cell_type": "code",
   "metadata": {
    "application/vnd.databricks.v1+cell": {
     "cellMetadata": {
      "byteLimit": 2048000,
      "rowLimit": 10000
     },
     "inputWidgets": {},
     "nuid": "2562e36a-f14c-4354-93f3-0d8d20f80650",
     "showTitle": false,
     "title": ""
    },
    "ExecuteTime": {
     "end_time": "2024-10-22T20:09:42.524266Z",
     "start_time": "2024-10-22T20:09:42.520877Z"
    }
   },
   "source": [
    "sheet_names = sorted([name for name in test.sheet_names if name.strip().lower().startswith('sheet')], key=lambda name: int(re.search(r'\\d+', name).group()))\n",
    "last_sheet_name = sheet_names[-1] if sheet_names else None"
   ],
   "outputs": [],
   "execution_count": 4
  },
  {
   "cell_type": "code",
   "metadata": {
    "application/vnd.databricks.v1+cell": {
     "cellMetadata": {
      "byteLimit": 2048000,
      "rowLimit": 10000
     },
     "inputWidgets": {},
     "nuid": "20e550e2-9248-4ebc-8eb0-9efd810891c7",
     "showTitle": false,
     "title": ""
    },
    "ExecuteTime": {
     "end_time": "2024-10-22T20:09:42.533058Z",
     "start_time": "2024-10-22T20:09:42.525275Z"
    }
   },
   "source": [
    "last_sheet_name"
   ],
   "outputs": [
    {
     "data": {
      "text/plain": [
       "'Sheet 5 (DO 034-2023)'"
      ]
     },
     "execution_count": 5,
     "metadata": {},
     "output_type": "execute_result"
    }
   ],
   "execution_count": 5
  },
  {
   "cell_type": "code",
   "metadata": {
    "application/vnd.databricks.v1+cell": {
     "cellMetadata": {
      "byteLimit": 2048000,
      "rowLimit": 10000
     },
     "inputWidgets": {},
     "nuid": "f6480de4-85a2-4aa2-ad48-e110160c411e",
     "showTitle": false,
     "title": ""
    },
    "ExecuteTime": {
     "end_time": "2024-10-22T20:09:42.913168Z",
     "start_time": "2024-10-22T20:09:42.533058Z"
    }
   },
   "source": [
    "df = pd.read_excel(\"data/\"+file, sheet_name=last_sheet_name, header=None)"
   ],
   "outputs": [],
   "execution_count": 6
  },
  {
   "cell_type": "code",
   "metadata": {
    "application/vnd.databricks.v1+cell": {
     "cellMetadata": {
      "byteLimit": 2048000,
      "rowLimit": 10000
     },
     "inputWidgets": {},
     "nuid": "82b17edc-84e5-4f19-bf8f-9f76cc1d6b3a",
     "showTitle": false,
     "title": ""
    },
    "ExecuteTime": {
     "end_time": "2024-10-22T20:09:42.917757Z",
     "start_time": "2024-10-22T20:09:42.913168Z"
    }
   },
   "source": [
    "def xls_to_df(filename, base_dir=\"data/\"):\n",
    "    filepath = os.path.join(base_dir, filename)\n",
    "\n",
    "    # Check file extension and specify engine if necessary\n",
    "    if filename.lower().endswith('.xls'):\n",
    "        test = pd.ExcelFile(filepath, engine='xlrd')  # Use xlrd for .xls files\n",
    "    else:\n",
    "        test = pd.ExcelFile(filepath, engine='openpyxl')  # Use openpyxl for .xlsx files\n",
    "\n",
    "    sheet_names = test.sheet_names\n",
    "    last_sheet_name = None\n",
    "    \n",
    "    # Sort the sheet names if they follow the 'Sheet' naming pattern\n",
    "    sheet_names = sorted([name for name in sheet_names if name.strip().lower().startswith('sheet')],\n",
    "                         key=lambda name: int(re.search(r'\\d+', name).group()))\n",
    "    \n",
    "    # Select the last sheet that matches the pattern\n",
    "    if sheet_names:\n",
    "        last_sheet_name = sheet_names[-1]\n",
    "    \n",
    "    if last_sheet_name:\n",
    "        df = pd.read_excel(filepath, sheet_name=last_sheet_name, header=None)\n",
    "        return df\n",
    "    else:\n",
    "        print(f\"No matching sheets found in {filename}\")\n",
    "        return None"
   ],
   "outputs": [],
   "execution_count": 7
  },
  {
   "cell_type": "code",
   "metadata": {
    "application/vnd.databricks.v1+cell": {
     "cellMetadata": {
      "byteLimit": 2048000,
      "rowLimit": 10000
     },
     "inputWidgets": {},
     "nuid": "10de7818-f742-4464-be37-108dcd04eb30",
     "showTitle": false,
     "title": ""
    },
    "ExecuteTime": {
     "end_time": "2024-10-22T20:09:42.924255Z",
     "start_time": "2024-10-22T20:09:42.917757Z"
    }
   },
   "source": [
    "def clean_value(value):\n",
    "    if value == 'nan':\n",
    "        return ''\n",
    "    if value is not None:\n",
    "        value = str(value)\n",
    "        value = re.sub(r\"^\\s*:\\s*\", \"\", value.strip())\n",
    "        # value = re.sub(r\"(D.*O.* No|Effectivity Date|--continued)\\s*.*\", \"\", value, flags=re.IGNORECASE).strip() \n",
    "        value = re.sub(r\"(D\\.?\\s*O\\s*\\.?\\s*No|Effectivity Date)\\s*.*\", \"\", value, flags=re.IGNORECASE).strip()\n",
    "        value = re.sub(r\"\\s*-*\\s*(\\s*\\(cont\\s*\\.\\)|(?:\\()?\\s*continued\\s*(?:\\))|(?:\\()?\\s*continuation\\s*(?:\\))?)\", \"\", value, flags=re.IGNORECASE).strip()\n",
    "        return value\n",
    "    return value\n",
    "\n",
    "def test_function():\n",
    "    pass\n",
    "\n",
    "def extract_value(pattern, text):\n",
    "    match = re.search(pattern, text, re.IGNORECASE)\n",
    "    if match:\n",
    "        return match.group(1).strip()\n",
    "    else:\n",
    "        return None"
   ],
   "outputs": [],
   "execution_count": 8
  },
  {
   "cell_type": "code",
   "metadata": {
    "application/vnd.databricks.v1+cell": {
     "cellMetadata": {
      "byteLimit": 2048000,
      "rowLimit": 10000
     },
     "inputWidgets": {},
     "nuid": "d592eaea-8ffe-4224-9372-025d2d10b7bd",
     "showTitle": false,
     "title": ""
    },
    "ExecuteTime": {
     "end_time": "2024-10-22T20:09:42.930643Z",
     "start_time": "2024-10-22T20:09:42.925263Z"
    }
   },
   "source": [
    "\n",
    "def find_column_headers(df, index, proximity_window=6, debug=False):\n",
    "    headers = {\n",
    "        'street_name_index': None,\n",
    "        'vicinity_index': None,\n",
    "        'classification_index': None,\n",
    "        'zv_sq_m_index': None\n",
    "    }\n",
    "    \n",
    "    for offset in range(proximity_window-3, proximity_window):\n",
    "        current_index = index + offset\n",
    "        if current_index >= len(df):\n",
    "            break\n",
    "        row = df.iloc[current_index]\n",
    "        \n",
    "        for col_index, cell in enumerate(row):\n",
    "            cell_value = str(cell)\n",
    "            if headers['street_name_index'] is None and re.search(r\"(STREET NAME|SUBDIVISION|CONDOMINIUM)\", cell_value, re.IGNORECASE):\n",
    "                headers['street_name_index'] = col_index\n",
    "            \n",
    "            if headers['vicinity_index'] is None and re.search(r\"V.*I.*C.*I.*N.*I.*T.*Y\", cell_value, re.IGNORECASE):\n",
    "                headers['vicinity_index'] = col_index\n",
    "            \n",
    "            if isinstance(headers['vicinity_index'], int) and cell_value == 'nan' and col_index == headers['vicinity_index'] + 1:\n",
    "                headers['vicinity_index'] = [headers['vicinity_index'], col_index]\n",
    "            \n",
    "            if headers['classification_index'] is None and re.search(r\"CLASS(?:IFICATION)?|C.*L.*A.*S.*S.*I.*F.*I.*C.*A.*T.*I.*O.*N\", cell_value, re.IGNORECASE | re.DOTALL):\n",
    "                headers['classification_index'] = col_index\n",
    "            \n",
    "            if headers['zv_sq_m_index'] is None and re.search(r\"ZV.*SQ.*M|3rd\\s*Rev\", cell_value, re.IGNORECASE): \n",
    "                headers['zv_sq_m_index'] = col_index\n",
    "        \n",
    "        if all(value is not None for value in headers.values()):\n",
    "            if debug:\n",
    "                print(f\"Headers found at index {current_index}\")\n",
    "                print(f\"Header indices: {headers}\")\n",
    "            return True, headers, current_index + 1\n",
    "    \n",
    "    return False, None, index"
   ],
   "outputs": [],
   "execution_count": 9
  },
  {
   "cell_type": "code",
   "metadata": {
    "application/vnd.databricks.v1+cell": {
     "cellMetadata": {
      "byteLimit": 2048000,
      "rowLimit": 10000
     },
     "inputWidgets": {},
     "nuid": "2033bb79-e329-40ce-a9bc-7077c252f94f",
     "showTitle": false,
     "title": ""
    },
    "ExecuteTime": {
     "end_time": "2024-10-22T20:09:42.936275Z",
     "start_time": "2024-10-22T20:09:42.931650Z"
    }
   },
   "source": [
    "def is_header_row(row):\n",
    "    header_patterns = [\n",
    "        r\"(STREET NAME|SUBDIVISION|CONDOMINIUM)\",\n",
    "        r\"V.*I.*C.*I.*N.*I.*T.*Y\",\n",
    "        r\"CLASS(?:IFICATION)?|C.*L.*A.*S.*S.*I.*F.*I.*C.*A.*T.*I.*O.*N\",\n",
    "        r\"ZV.*SQ.*M|3rd\\s*Rev\"\n",
    "        \n",
    "    ]\n",
    "    \n",
    "    found = {pattern: False for pattern in header_patterns}\n",
    "    \n",
    "    for cell in row:\n",
    "        cell_value = str(cell)\n",
    "        for pattern in header_patterns:\n",
    "            if re.search(pattern, cell_value, re.IGNORECASE):\n",
    "                found[pattern] = True\n",
    "            \n",
    "    \n",
    "    return all(found.values())"
   ],
   "outputs": [],
   "execution_count": 10
  },
  {
   "cell_type": "code",
   "metadata": {
    "application/vnd.databricks.v1+cell": {
     "cellMetadata": {
      "byteLimit": 2048000,
      "rowLimit": 10000
     },
     "inputWidgets": {},
     "nuid": "09da24ed-d28e-4919-83ea-93e7cd1c5464",
     "showTitle": false,
     "title": ""
    },
    "ExecuteTime": {
     "end_time": "2024-10-22T20:39:45.807073Z",
     "start_time": "2024-10-22T20:39:45.798641Z"
    }
   },
   "source": [
    "def find_location_components(df, index, proximity_window=5, current_province=None, current_city=None, current_barangay=None, debug=False):\n",
    "    if debug:\n",
    "        print(f\"Running find_location_components\")\n",
    "    last_matched_index = index\n",
    "    expecting_values = False  # Flag to indicate we are expecting values in subsequent rows after combined labels\n",
    "    found_any = False  # Flag to check if any location component is found\n",
    "\n",
    "    for offset in range(proximity_window):\n",
    "        current_index = index + offset\n",
    "        if current_index >= len(df):\n",
    "            break\n",
    "        current_row = df.iloc[current_index]\n",
    "        combined_current_row = ''.join(map(str, current_row.dropna())).strip()\n",
    "        non_null_cells = current_row.dropna().astype(str).tolist()\n",
    "        \n",
    "        if debug:\n",
    "            print(f\"Row {current_index}: {non_null_cells}\")\n",
    "            print(f\"Expeting values: {expecting_values}\")\n",
    "\n",
    "        # Check if this row contains the combined labels\n",
    "        if not expecting_values and any(re.search(r\"PROVINCE\\s*/\\s*CITY\\s*/\\s*MUNICIPALITY\\s*/\\s*BARANGAYS\", cell, re.IGNORECASE) for cell in non_null_cells):\n",
    "            expecting_values = True\n",
    "            if debug:\n",
    "                print(f\"Combined labels found at row {current_index}\")\n",
    "            continue  # Move to the next row to read values\n",
    "\n",
    "        # If we're expecting values after combined labels\n",
    "        if expecting_values:\n",
    "            # Iterate over cells to find values starting with \":\"\n",
    "            for cell in non_null_cells:\n",
    "                cell = cell.strip()\n",
    "                print(f\"Cell: {non_null_cells}\")\n",
    "                # print(f\"Current province: {current_province}\\nCurrent city: {current_city}\\nCurrent barangay: {current_barangay}\")\n",
    "                if cell.startswith(\":\"):\n",
    "                    value = cell.lstrip(\":\").strip()\n",
    "                    if not current_province:\n",
    "                        current_province = clean_value(value)\n",
    "                        found_any = True\n",
    "                        if debug:\n",
    "                            print(f\"Province found: {current_province}\")\n",
    "                    elif not current_city:\n",
    "                        current_city = clean_value(value)\n",
    "                        found_any = True\n",
    "                        if debug:\n",
    "                            print(f\"City/Municipality found: {current_city}\")\n",
    "                    elif not current_barangay:\n",
    "                        current_barangay = clean_value(value)\n",
    "                        found_any = True\n",
    "                        if debug:\n",
    "                            print(f\"Barangay found: {current_barangay}\")\n",
    "            last_matched_index = current_index\n",
    "            # If all components have values (either found now or already had values), we can return\n",
    "            if (current_province and current_city and current_barangay) or offset == proximity_window - 1:\n",
    "                return current_province, current_city, current_barangay, last_matched_index\n",
    "            continue  # Continue to next row to find remaining components\n",
    "\n",
    "        # Original logic for separate labels\n",
    "        else:\n",
    "            # Check for Province\n",
    "            province = extract_value(r\"Province\\s*[:\\s]?\\s*(.*)\", combined_current_row)\n",
    "            if province:\n",
    "                current_province = clean_value(province)\n",
    "                found_any = True\n",
    "                last_matched_index = current_index\n",
    "                if debug:\n",
    "                    print(f\"Province match found in row {current_index}: {current_province}\")\n",
    "\n",
    "            # Check for City/Municipality\n",
    "            city = extract_value(r\"(?:(?!City,)(?:City|Municipality))(?:\\s*\\/\\s*(?:City|Municipality))?\\s*[:\\s]?\\s*(.+)\", combined_current_row)\n",
    "            if city:\n",
    "                current_city = clean_value(city)\n",
    "                found_any = True\n",
    "                last_matched_index = current_index\n",
    "                if debug:\n",
    "                    print(f\"City/Municipality match found in row {current_index}: {current_city}\")\n",
    "\n",
    "            # Check for Barangay/Zone\n",
    "            barangay = extract_value(r\"(?:Barangay|Zone|Barangays)(?:\\s*\\/\\s*(?:Barangay|Zone|Barangays))?\\s*[:\\s]?\\s*(.+)\", combined_current_row)\n",
    "            if barangay:\n",
    "                current_barangay = clean_value(barangay)\n",
    "                found_any = True\n",
    "                last_matched_index = current_index\n",
    "                if debug:\n",
    "                    print(f\"Barangay/Zone match found in row {current_index}: {current_barangay}\")\n",
    "\n",
    "            # If we've found any component, we can check if we've reached the proximity window or if all components are found\n",
    "            if found_any and ((current_province and current_city and current_barangay) or offset == proximity_window - 1):\n",
    "                return current_province, current_city, current_barangay, last_matched_index\n",
    "        \n",
    "        if not found_any:\n",
    "            break\n",
    "\n",
    "    return current_province, current_city, current_barangay, last_matched_index\n"
   ],
   "outputs": [],
   "execution_count": 57
  },
  {
   "cell_type": "markdown",
   "metadata": {
    "application/vnd.databricks.v1+cell": {
     "cellMetadata": {
      "byteLimit": 2048000,
      "rowLimit": 10000
     },
     "inputWidgets": {},
     "nuid": "a4feb705-9914-4ed1-a53b-9576f2c9285b",
     "showTitle": false,
     "title": ""
    }
   },
   "source": [
    "#Code for Standard Format\n",
    "\n",
    "Standard Format follows: \n",
    "\n",
    "- each tables have complete Province, Barangay, City/mun and are in succeeding rows.\n",
    "                \n",
    "- Table headers can be can be read with this regex pattern: \n",
    "\n",
    "          r\"(STREET NAME|SUBDIVISION|CONDOMINIUM)\",\n",
    "          r\"V.*I.*C.*I.*N.*I.*T.*Y\",\n",
    "          r\"CLASS(?:IFICATION)?|C.*L.*A.*S.*S.*I.*F.*I.*C.*A.*T.*I.*O.*N\",\n",
    "          r\"ZV.*SQ.*M|3rd\\s*Rev\""
   ]
  },
  {
   "cell_type": "code",
   "metadata": {
    "application/vnd.databricks.v1+cell": {
     "cellMetadata": {
      "byteLimit": 2048000,
      "rowLimit": 10000
     },
     "inputWidgets": {},
     "nuid": "5294479a-465d-4d77-b735-c4e088f7bf5f",
     "showTitle": false,
     "title": ""
    },
    "ExecuteTime": {
     "end_time": "2024-10-22T20:41:28.922048Z",
     "start_time": "2024-10-22T20:41:28.911461Z"
    }
   },
   "source": [
    "def main(df, debug=False):\n",
    "    index = 100\n",
    "    count = 0\n",
    "    new_df = pd.DataFrame(columns=['Province', 'City/Municipality', 'Barangay', \n",
    "                                   'Street/Subdivision', 'Vicinity', 'Classification', 'ZV/SQM'])\n",
    "    \n",
    "    PROXIMITY_WINDOW = 5  # Increased to accommodate different formats\n",
    "\n",
    "    current_province = None\n",
    "    current_city = None\n",
    "    current_barangay = None\n",
    "    header_indices = None\n",
    "\n",
    "    # while index < len(df):\n",
    "    while index < 115:\n",
    "        # Attempt to find location components starting from current index\n",
    "        current_province_new, current_city_new, current_barangay_new, index  = find_location_components(\n",
    "            df, index, proximity_window=PROXIMITY_WINDOW, \n",
    "            current_province=current_province, current_city=current_city, current_barangay=current_barangay, debug=debug)\n",
    "        \n",
    "        if all([current_province, current_city, current_barangay, debug]):\n",
    "            print(\"Found all location components\")\n",
    "            \n",
    "        # Update current location components with any new values\n",
    "        current_province = current_province_new\n",
    "        current_city = current_city_new\n",
    "        current_barangay = current_barangay_new\n",
    "\n",
    "        # Attempt to find headers starting from the last matched index\n",
    "        found_headers, header_indices_new, new_index = find_column_headers(df, index + 1, debug=debug)\n",
    "        \n",
    "        if found_headers:\n",
    "            # Update header indices\n",
    "            header_indices = header_indices_new\n",
    "            index = new_index  # Move index to after headers\n",
    "\n",
    "            # Start processing data rows\n",
    "            count += 1\n",
    "            if debug:\n",
    "                print(f'Processing table {count}\\n')\n",
    "\n",
    "            age = 0\n",
    "            MAX_AGE = 3\n",
    "            col1_holder = None\n",
    "            vicinity_holder = None\n",
    "\n",
    "            while index < len(df) and age < MAX_AGE:\n",
    "                row = df.iloc[index]\n",
    "\n",
    "                # Check for new location components in the current row\n",
    "                current_province_new, current_city_new, current_barangay_new, _ = find_location_components(\n",
    "                    df, index, proximity_window=1, \n",
    "                    current_province=current_province, current_city=current_city, current_barangay=current_barangay, debug=debug)\n",
    "\n",
    "                # Update current location components with any new values\n",
    "                current_province = current_province_new\n",
    "                current_city = current_city_new\n",
    "                current_barangay = current_barangay_new\n",
    "\n",
    "                # Check for new headers in the current row\n",
    "                found_headers_in_row, header_indices_in_row, new_index_in_row = find_column_headers(df, index, debug=debug)\n",
    "                if found_headers_in_row:\n",
    "                    # New headers found, update header indices and reset variables\n",
    "                    header_indices = header_indices_in_row\n",
    "                    index = new_index_in_row\n",
    "                    age = 0\n",
    "                    col1_holder = None\n",
    "                    vicinity_holder = None\n",
    "                    if debug:\n",
    "                        print(f\"New headers found at index {index}. Updated header indices.\")\n",
    "                    continue  # Start processing new table from updated index\n",
    "\n",
    "                # Continue processing current table\n",
    "                # Extract data using the header indices\n",
    "                col1 = row.iloc[header_indices['street_name_index']]\n",
    "                classification = row.iloc[header_indices['classification_index']]\n",
    "                zv = row.iloc[header_indices['zv_sq_m_index']]\n",
    "\n",
    "                # Handle vicinity index (single or double column)\n",
    "                vicinity = ''\n",
    "                if isinstance(header_indices['vicinity_index'], int):\n",
    "                    vicinity = row.iloc[header_indices['vicinity_index']]\n",
    "                elif isinstance(header_indices['vicinity_index'], list):\n",
    "                    vicinity1 = str(row.iloc[header_indices['vicinity_index'][0]])\n",
    "                    vicinity2 = str(row.iloc[header_indices['vicinity_index'][1]])\n",
    "                    if vicinity1 == 'nan':\n",
    "                        vicinity = vicinity2\n",
    "                    elif vicinity2 == 'nan':\n",
    "                        vicinity = vicinity1\n",
    "                    else:\n",
    "                        vicinity = f\"{vicinity1}, {vicinity2}\"\n",
    "\n",
    "                if debug:\n",
    "                    print(f\"Data row at index {index}: {[col1, vicinity, classification, zv]}\")\n",
    "\n",
    "                # Check if both classification and ZV/SQM are empty\n",
    "                if (pd.isnull(classification) or str(classification).strip() == '') and \\\n",
    "                   (pd.isnull(zv) or str(zv).strip() == ''):\n",
    "                    index += 1\n",
    "                    age += 1\n",
    "                    continue  \n",
    "\n",
    "                # Handle missing values by carrying forward the last known values\n",
    "                if pd.isnull(col1) or str(col1).strip() == '':\n",
    "                    col1 = col1_holder\n",
    "                else:\n",
    "                    col1_holder = col1\n",
    "\n",
    "                if pd.isnull(vicinity) or str(vicinity).strip() == '':\n",
    "                    vicinity = vicinity_holder\n",
    "                else:\n",
    "                    vicinity_holder = vicinity\n",
    "\n",
    "                # Append to new DataFrame\n",
    "                new_df.loc[len(new_df)] = [\n",
    "                    current_province, \n",
    "                    current_city, \n",
    "                    current_barangay, \n",
    "                    clean_value(col1), \n",
    "                    clean_value(vicinity), \n",
    "                    clean_value(classification), \n",
    "                    clean_value(zv)\n",
    "                ]\n",
    "\n",
    "                index += 1\n",
    "                age = 0\n",
    "            continue  # Proceed to next iteration of the main loop\n",
    "        else:\n",
    "            index += 1  # No headers found, move to the next row\n",
    "    if debug:\n",
    "        print(f\"Total tables processed: {count}\")\n",
    "    return new_df\n"
   ],
   "outputs": [],
   "execution_count": 60
  },
  {
   "cell_type": "code",
   "metadata": {
    "application/vnd.databricks.v1+cell": {
     "cellMetadata": {
      "byteLimit": 2048000,
      "rowLimit": 10000
     },
     "inputWidgets": {},
     "nuid": "31295213-fa7d-4ee7-85c6-cf2214bc0f67",
     "showTitle": false,
     "title": ""
    },
    "ExecuteTime": {
     "end_time": "2024-10-22T20:41:29.363615Z",
     "start_time": "2024-10-22T20:41:29.352293Z"
    }
   },
   "source": "main(df, debug=True)",
   "outputs": [
    {
     "name": "stdout",
     "output_type": "stream",
     "text": [
      "Running find_location_components\n",
      "Row 100: ['A23  Mango', 'A48  Coffee']\n",
      "Expeting values: False\n",
      "Running find_location_components\n",
      "Row 101: ['A24  Mangrove', 'A49  Mountainous / Hilly Areas']\n",
      "Expeting values: False\n",
      "Running find_location_components\n",
      "Row 102: ['A25  Camote/Cassava', 'A50  Other Agricultural Lands']\n",
      "Expeting values: False\n",
      "Running find_location_components\n",
      "Row 103: []\n",
      "Expeting values: False\n",
      "Running find_location_components\n",
      "Row 104: []\n",
      "Expeting values: False\n",
      "Running find_location_components\n",
      "Row 105: ['REVENUE REGION No. 17-BUTUAN CITY']\n",
      "Expeting values: False\n",
      "Running find_location_components\n",
      "Row 106: ['REVENUE DISTRICT OFFICE No. 105 - SURIGAO CITY, SURIGAO DEL NORTE']\n",
      "Expeting values: False\n",
      "Running find_location_components\n",
      "Row 107: []\n",
      "Expeting values: False\n",
      "Running find_location_components\n",
      "Row 108: ['PROVINCE/CITY/MUNICIPALITY/BARANGAYS                              ']\n",
      "Expeting values: False\n",
      "Combined labels found at row 108\n",
      "Row 109: [':SURIGAO DEL NORTE']\n",
      "Expeting values: True\n",
      "Cell: [':SURIGAO DEL NORTE']\n",
      "Province found: SURIGAO DEL NORTE\n",
      "Row 110: [':SURIGAO CITY', 'D.O. No.', '034-2023']\n",
      "Expeting values: True\n",
      "Cell: [':SURIGAO CITY', 'D.O. No.', '034-2023']\n",
      "City/Municipality found: SURIGAO CITY\n",
      "Cell: [':SURIGAO CITY', 'D.O. No.', '034-2023']\n",
      "Cell: [':SURIGAO CITY', 'D.O. No.', '034-2023']\n",
      "Row 111: [':ALANG-ALANG (ISLAND BARANGAY)', 'Effectivity Date', '7/26/2023']\n",
      "Expeting values: True\n",
      "Cell: [':ALANG-ALANG (ISLAND BARANGAY)', 'Effectivity Date', '7/26/2023']\n",
      "Barangay found: ALANG-ALANG (ISLAND BARANGAY)\n",
      "Cell: [':ALANG-ALANG (ISLAND BARANGAY)', 'Effectivity Date', '7/26/2023']\n",
      "Cell: [':ALANG-ALANG (ISLAND BARANGAY)', 'Effectivity Date', '7/26/2023']\n",
      "Running find_location_components\n",
      "Row 112: ['STREET NAME/                 SUBDIVISION/CONDOMINIUM', 'VICINITY', 'CLASSIFICATION', 'FINAL']\n",
      "Expeting values: False\n",
      "Found all location components\n",
      "Running find_location_components\n",
      "Row 113: ['ALL LOTS', 'ALONG THE ROAD', 'RR', '445']\n",
      "Expeting values: False\n",
      "Found all location components\n",
      "Running find_location_components\n",
      "Row 114: ['WITHOUT ROAD ACCESS**', 'RR', '280']\n",
      "Expeting values: False\n",
      "Found all location components\n",
      "Total tables processed: 0\n"
     ]
    },
    {
     "data": {
      "text/plain": [
       "Empty DataFrame\n",
       "Columns: [Province, City/Municipality, Barangay, Street/Subdivision, Vicinity, Classification, ZV/SQM]\n",
       "Index: []"
      ],
      "text/html": [
       "<div>\n",
       "<style scoped>\n",
       "    .dataframe tbody tr th:only-of-type {\n",
       "        vertical-align: middle;\n",
       "    }\n",
       "\n",
       "    .dataframe tbody tr th {\n",
       "        vertical-align: top;\n",
       "    }\n",
       "\n",
       "    .dataframe thead th {\n",
       "        text-align: right;\n",
       "    }\n",
       "</style>\n",
       "<table border=\"1\" class=\"dataframe\">\n",
       "  <thead>\n",
       "    <tr style=\"text-align: right;\">\n",
       "      <th></th>\n",
       "      <th>Province</th>\n",
       "      <th>City/Municipality</th>\n",
       "      <th>Barangay</th>\n",
       "      <th>Street/Subdivision</th>\n",
       "      <th>Vicinity</th>\n",
       "      <th>Classification</th>\n",
       "      <th>ZV/SQM</th>\n",
       "    </tr>\n",
       "  </thead>\n",
       "  <tbody>\n",
       "  </tbody>\n",
       "</table>\n",
       "</div>"
      ]
     },
     "execution_count": 61,
     "metadata": {},
     "output_type": "execute_result"
    }
   ],
   "execution_count": 61
  },
  {
   "cell_type": "code",
   "metadata": {
    "application/vnd.databricks.v1+cell": {
     "cellMetadata": {
      "byteLimit": 2048000,
      "rowLimit": 10000
     },
     "inputWidgets": {},
     "nuid": "e6b70cc8-63ef-4e71-8bdd-e7bcce8b4261",
     "showTitle": false,
     "title": ""
    },
    "ExecuteTime": {
     "end_time": "2024-10-17T19:28:48.522083Z",
     "start_time": "2024-10-17T19:23:44.671989Z"
    }
   },
   "source": [
    "# Running for non-QC\n",
    "excel_files = [f for f in os.listdir(\"data/\") if os.path.isfile(os.path.join(\"data/\", f))]\n",
    "\n",
    "for excel in excel_files:\n",
    "    print(f'Processing {excel}')\n",
    "    df = xls_to_df(excel)\n",
    "    processed = main(df)\n",
    "    \n",
    "    # Split the filename and the extension\n",
    "    filename, extension = os.path.splitext(excel)\n",
    "    \n",
    "    if extension.lower() == '.xls':\n",
    "        normalized_filename = f\"{filename}.xlsx\"  \n",
    "    elif extension.lower() == '.xlsx':\n",
    "        normalized_filename = excel  \n",
    "    else:\n",
    "        print(f\"Unsupported file format for {excel}. Skipping...\")\n",
    "        continue\n",
    "    \n",
    "    output_path = os.path.join(\"Output\", f\"Updated_{normalized_filename}\")\n",
    "    processed.to_excel(output_path, index=False)\n",
    "\n",
    "    print(f'Processed file saved as: {output_path}')\n",
    "\n",
    "print(\"done w all nice\")"
   ],
   "outputs": [
    {
     "name": "stdout",
     "output_type": "stream",
     "text": [
      "Processing RDO No. 1 - Laoag City, Ilocos Norte.xls\n",
      "Processed file saved as: Output\\Updated_RDO No. 1 - Laoag City, Ilocos Norte.xlsx\n",
      "Processing RDO No. 10 - Bontoc, Mt. Province 2.xls\n",
      "Processed file saved as: Output\\Updated_RDO No. 10 - Bontoc, Mt. Province 2.xlsx\n",
      "Processing RDO No. 10 - Bontoc, Mt. Province.xls\n",
      "Processed file saved as: Output\\Updated_RDO No. 10 - Bontoc, Mt. Province.xlsx\n",
      "Processing RDO No. 105 - Surigao City, Surigao del Norte.xls\n",
      "Processed file saved as: Output\\Updated_RDO No. 105 - Surigao City, Surigao del Norte.xlsx\n",
      "Processing RDO No. 107 - Cotabato City, Maguindanao.xls\n",
      "Processed file saved as: Output\\Updated_RDO No. 107 - Cotabato City, Maguindanao.xlsx\n",
      "Processing RDO No. 108 - Kidapawan City, North Cotabato.xls\n",
      "Processed file saved as: Output\\Updated_RDO No. 108 - Kidapawan City, North Cotabato.xlsx\n",
      "Processing RDO No. 110 - General Santos City, South Cotabato.xls\n",
      "Processed file saved as: Output\\Updated_RDO No. 110 - General Santos City, South Cotabato.xlsx\n",
      "Processing RDO No. 115 - Digos City, Davao del Sur.XLS\n",
      "Processed file saved as: Output\\Updated_RDO No. 115 - Digos City, Davao del Sur.xlsx\n",
      "Processing RDO No. 12 - Lagawe, Ifugao.xlsx\n",
      "Processed file saved as: Output\\Updated_RDO No. 12 - Lagawe, Ifugao.xlsx\n",
      "Processing RDO No. 13 - Tuguegarao City, Cagayan.xls\n",
      "Processed file saved as: Output\\Updated_RDO No. 13 - Tuguegarao City, Cagayan.xlsx\n",
      "Processing RDO No. 15 - Naguilian, Isabela.xls\n",
      "Processed file saved as: Output\\Updated_RDO No. 15 - Naguilian, Isabela.xlsx\n",
      "Processing RDO No. 17A - Tarlac City, Tarlac.xls\n",
      "Processed file saved as: Output\\Updated_RDO No. 17A - Tarlac City, Tarlac.xlsx\n",
      "Processing RDO No. 17B - Paniqui Tarlac.xls\n",
      "Processed file saved as: Output\\Updated_RDO No. 17B - Paniqui Tarlac.xlsx\n",
      "Processing RDO No. 18 - Olongapo City, Zambales.xls\n",
      "Processed file saved as: Output\\Updated_RDO No. 18 - Olongapo City, Zambales.xlsx\n",
      "Processing RDO No. 2 - Vigan City, Ilocos Sur.xls\n",
      "Processed file saved as: Output\\Updated_RDO No. 2 - Vigan City, Ilocos Sur.xlsx\n",
      "Processing RDO No. 2 - Vigan City, Ilocos Sur.xlsx\n",
      "Processed file saved as: Output\\Updated_RDO No. 2 - Vigan City, Ilocos Sur.xlsx\n",
      "Processing RDO No. 23A - Talavera, North Nueva Ecija.xls\n",
      "Processed file saved as: Output\\Updated_RDO No. 23A - Talavera, North Nueva Ecija.xlsx\n",
      "Processing RDO No. 32 - Quiapo-Sampaloc-San Miguel-Sta Mesa.xls\n",
      "Processed file saved as: Output\\Updated_RDO No. 32 - Quiapo-Sampaloc-San Miguel-Sta Mesa.xlsx\n",
      "Processing RDO No. 46 - Cainta-Taytay.xls\n",
      "Processed file saved as: Output\\Updated_RDO No. 46 - Cainta-Taytay.xlsx\n",
      "Processing RDO No. 54A - Trece Martirez City, East Cavite 2.xls\n",
      "Processed file saved as: Output\\Updated_RDO No. 54A - Trece Martirez City, East Cavite 2.xlsx\n",
      "Processing RDO No. 54A - Trece Martirez City, East Cavite.xls\n",
      "Processed file saved as: Output\\Updated_RDO No. 54A - Trece Martirez City, East Cavite.xlsx\n",
      "Processing RDO No. 60 - Lucena City, North Quezon.xls\n",
      "Processed file saved as: Output\\Updated_RDO No. 60 - Lucena City, North Quezon.xlsx\n",
      "Processing RDO No. 61 - Gumaca, South Quezon.xls\n",
      "Processed file saved as: Output\\Updated_RDO No. 61 - Gumaca, South Quezon.xlsx\n",
      "Processing RDO No. 8 - Baguio City.xls\n",
      "Processed file saved as: Output\\Updated_RDO No. 8 - Baguio City.xlsx\n",
      "Processing RDO No. 80 - Mandaue City, Cebu.xls\n",
      "Processed file saved as: Output\\Updated_RDO No. 80 - Mandaue City, Cebu.xlsx\n",
      "Processing RDO No. 83 -Talisay City, CebuWeb.xls\n",
      "Processed file saved as: Output\\Updated_RDO No. 83 -Talisay City, CebuWeb.xlsx\n",
      "Processing RDO No. 84 - Tagbilaran City, Bohol.XLS\n",
      "Processed file saved as: Output\\Updated_RDO No. 84 - Tagbilaran City, Bohol.xlsx\n",
      "Processing RDO No. 9 - La Trinidad, Benguet.xlsx\n",
      "Processed file saved as: Output\\Updated_RDO No. 9 - La Trinidad, Benguet.xlsx\n",
      "Processing RDO No. 91 - Dipolog City, Zamboanga del Norte.xls\n",
      "Processed file saved as: Output\\Updated_RDO No. 91 - Dipolog City, Zamboanga del Norte.xlsx\n",
      "Processing RDO No. 91 - Dipolog City, Zamboanga del Norte.xlsx\n",
      "Processed file saved as: Output\\Updated_RDO No. 91 - Dipolog City, Zamboanga del Norte.xlsx\n",
      "Processing RDO No. 97 - Gingoog City, Misamis Oriental.xls\n",
      "Processed file saved as: Output\\Updated_RDO No. 97 - Gingoog City, Misamis Oriental.xlsx\n",
      "done w all nice\n"
     ]
    }
   ],
   "execution_count": 52
  },
  {
   "cell_type": "code",
   "metadata": {
    "application/vnd.databricks.v1+cell": {
     "cellMetadata": {
      "byteLimit": 2048000,
      "rowLimit": 10000
     },
     "inputWidgets": {},
     "nuid": "3705b6b2-5f25-4266-a945-93c30c1cc1d0",
     "showTitle": false,
     "title": ""
    },
    "ExecuteTime": {
     "end_time": "2024-10-17T19:29:03.557169Z",
     "start_time": "2024-10-17T19:28:48.522083Z"
    }
   },
   "source": [
    "output_files = [f for f in os.listdir(\"Output\")]\n",
    "for output_file in output_files:\n",
    "    file = pd.read_excel(f'Output/{output_file}')\n",
    "    if len(file) < 2:\n",
    "        print(output_file[:-5])"
   ],
   "outputs": [
    {
     "name": "stdout",
     "output_type": "stream",
     "text": [
      "Updated_RDO No. 105 - Surigao City, Surigao del Norte\n",
      "Updated_RDO No. 12 - Lagawe, Ifugao\n",
      "Updated_RDO No. 18 - Olongapo City, Zambales\n",
      "Updated_RDO No. 60 - Lucena City, North Quezon\n",
      "Updated_RDO No. 8 - Baguio City\n",
      "Updated_RDO No. 80 - Mandaue City, Cebu\n",
      "Updated_RDO No. 9 - La Trinidad, Benguet\n"
     ]
    }
   ],
   "execution_count": 53
  },
  {
   "metadata": {
    "ExecuteTime": {
     "end_time": "2024-10-17T19:46:38.629288Z",
     "start_time": "2024-10-17T19:46:38.621275Z"
    }
   },
   "cell_type": "code",
   "source": "df[117:140]",
   "outputs": [
    {
     "data": {
      "text/plain": [
       "                                                     0  \\\n",
       "117        Revenue Region No. 1 - Calasiao, Pangasinan   \n",
       "118  Revenue District Office No. 1 - LAOAG CITY, IL...   \n",
       "119                                                NaN   \n",
       "120                                         Province :   \n",
       "121                                     Municipality :   \n",
       "122                                  Barangay / Zone :   \n",
       "123                                                NaN   \n",
       "124            STREET NAME / SUBDIVISION / CONDOMINIUM   \n",
       "125                                                NaN   \n",
       "126        DONA MARIA G. CASTRO ST (BRILLANTES STREET)   \n",
       "127                                                      \n",
       "128                                                NaN   \n",
       "129        DONA MARIA G. CASTRO ST (BRILLANTES STREET)   \n",
       "130                                                NaN   \n",
       "131                                   D SAMONTE STREET   \n",
       "132                                                NaN   \n",
       "133                                  F R CASTRO AVENUE   \n",
       "134                                  F R CASTRO AVENUE   \n",
       "135                                                NaN   \n",
       "136                                                NaN   \n",
       "137                                                NaN   \n",
       "138                                       GEN LUNA ST.   \n",
       "139                                                NaN   \n",
       "\n",
       "                                                     1                 2  \\\n",
       "117                                                NaN               NaN   \n",
       "118                                                NaN               NaN   \n",
       "119                                                NaN               NaN   \n",
       "120                                       ILOCOS NORTE               NaN   \n",
       "121                                         LAOAG CITY               NaN   \n",
       "122                    NO. 1 - SAN LORENZO (POBLACION)            DO No.   \n",
       "123                                                NaN  Effectivity Date   \n",
       "124                                           VICINITY  CLASSIFI\\nCATION   \n",
       "125                                                NaN               NaN   \n",
       "126      D SAMONTE ST. - PRIMO LAZARO ST(P. BURGOS ST)                RR   \n",
       "127             PRIMO LAZARO ST(P BURGOS ST)- RIZAL ST               CR*   \n",
       "128                                                NaN                RR   \n",
       "129                           D SAMONTE ST. - RIZAL ST                RR   \n",
       "130                                           INTERIOR                RR   \n",
       "131  GOV. AGUEDO AGBAYANI ST(NOVALES ST) - JP RIZAL ST                CR   \n",
       "132                                                NaN                RR   \n",
       "133                          P DE GUAM ST - F R CASTRO                RR   \n",
       "134       P. DE GUAM ST. (AGBAYANI ST) -P. GUERRERO ST                RR   \n",
       "135                                                NaN                     \n",
       "136                            P GUERRERO ST,-DEAD END                RR   \n",
       "137  GOV. AGUEDO AGBAYANI ST(NOVALES ST) - P DE GUA...                RR   \n",
       "138  GOV. AGUEDO AGBAYANI ST(NOVALES ST) - DON PERF...                CR   \n",
       "139                                                NaN                RR   \n",
       "\n",
       "                     3  \n",
       "117                NaN  \n",
       "118                NaN  \n",
       "119                NaN  \n",
       "120                NaN  \n",
       "121                NaN  \n",
       "122         047 - 2023  \n",
       "123       Oct. 6, 2023  \n",
       "124  5TH REV\\nZV / SQM  \n",
       "125                NaN  \n",
       "126               7300  \n",
       "127               8700  \n",
       "128               7300  \n",
       "129               7300  \n",
       "130               5500  \n",
       "131              10400  \n",
       "132               8700  \n",
       "133               8400  \n",
       "134               8100  \n",
       "135                NaN  \n",
       "136               6300  \n",
       "137               8200  \n",
       "138              11300  \n",
       "139               9800  "
      ],
      "text/html": [
       "<div>\n",
       "<style scoped>\n",
       "    .dataframe tbody tr th:only-of-type {\n",
       "        vertical-align: middle;\n",
       "    }\n",
       "\n",
       "    .dataframe tbody tr th {\n",
       "        vertical-align: top;\n",
       "    }\n",
       "\n",
       "    .dataframe thead th {\n",
       "        text-align: right;\n",
       "    }\n",
       "</style>\n",
       "<table border=\"1\" class=\"dataframe\">\n",
       "  <thead>\n",
       "    <tr style=\"text-align: right;\">\n",
       "      <th></th>\n",
       "      <th>0</th>\n",
       "      <th>1</th>\n",
       "      <th>2</th>\n",
       "      <th>3</th>\n",
       "    </tr>\n",
       "  </thead>\n",
       "  <tbody>\n",
       "    <tr>\n",
       "      <th>117</th>\n",
       "      <td>Revenue Region No. 1 - Calasiao, Pangasinan</td>\n",
       "      <td>NaN</td>\n",
       "      <td>NaN</td>\n",
       "      <td>NaN</td>\n",
       "    </tr>\n",
       "    <tr>\n",
       "      <th>118</th>\n",
       "      <td>Revenue District Office No. 1 - LAOAG CITY, IL...</td>\n",
       "      <td>NaN</td>\n",
       "      <td>NaN</td>\n",
       "      <td>NaN</td>\n",
       "    </tr>\n",
       "    <tr>\n",
       "      <th>119</th>\n",
       "      <td>NaN</td>\n",
       "      <td>NaN</td>\n",
       "      <td>NaN</td>\n",
       "      <td>NaN</td>\n",
       "    </tr>\n",
       "    <tr>\n",
       "      <th>120</th>\n",
       "      <td>Province :</td>\n",
       "      <td>ILOCOS NORTE</td>\n",
       "      <td>NaN</td>\n",
       "      <td>NaN</td>\n",
       "    </tr>\n",
       "    <tr>\n",
       "      <th>121</th>\n",
       "      <td>Municipality :</td>\n",
       "      <td>LAOAG CITY</td>\n",
       "      <td>NaN</td>\n",
       "      <td>NaN</td>\n",
       "    </tr>\n",
       "    <tr>\n",
       "      <th>122</th>\n",
       "      <td>Barangay / Zone :</td>\n",
       "      <td>NO. 1 - SAN LORENZO (POBLACION)</td>\n",
       "      <td>DO No.</td>\n",
       "      <td>047 - 2023</td>\n",
       "    </tr>\n",
       "    <tr>\n",
       "      <th>123</th>\n",
       "      <td>NaN</td>\n",
       "      <td>NaN</td>\n",
       "      <td>Effectivity Date</td>\n",
       "      <td>Oct. 6, 2023</td>\n",
       "    </tr>\n",
       "    <tr>\n",
       "      <th>124</th>\n",
       "      <td>STREET NAME / SUBDIVISION / CONDOMINIUM</td>\n",
       "      <td>VICINITY</td>\n",
       "      <td>CLASSIFI\\nCATION</td>\n",
       "      <td>5TH REV\\nZV / SQM</td>\n",
       "    </tr>\n",
       "    <tr>\n",
       "      <th>125</th>\n",
       "      <td>NaN</td>\n",
       "      <td>NaN</td>\n",
       "      <td>NaN</td>\n",
       "      <td>NaN</td>\n",
       "    </tr>\n",
       "    <tr>\n",
       "      <th>126</th>\n",
       "      <td>DONA MARIA G. CASTRO ST (BRILLANTES STREET)</td>\n",
       "      <td>D SAMONTE ST. - PRIMO LAZARO ST(P. BURGOS ST)</td>\n",
       "      <td>RR</td>\n",
       "      <td>7300</td>\n",
       "    </tr>\n",
       "    <tr>\n",
       "      <th>127</th>\n",
       "      <td></td>\n",
       "      <td>PRIMO LAZARO ST(P BURGOS ST)- RIZAL ST</td>\n",
       "      <td>CR*</td>\n",
       "      <td>8700</td>\n",
       "    </tr>\n",
       "    <tr>\n",
       "      <th>128</th>\n",
       "      <td>NaN</td>\n",
       "      <td>NaN</td>\n",
       "      <td>RR</td>\n",
       "      <td>7300</td>\n",
       "    </tr>\n",
       "    <tr>\n",
       "      <th>129</th>\n",
       "      <td>DONA MARIA G. CASTRO ST (BRILLANTES STREET)</td>\n",
       "      <td>D SAMONTE ST. - RIZAL ST</td>\n",
       "      <td>RR</td>\n",
       "      <td>7300</td>\n",
       "    </tr>\n",
       "    <tr>\n",
       "      <th>130</th>\n",
       "      <td>NaN</td>\n",
       "      <td>INTERIOR</td>\n",
       "      <td>RR</td>\n",
       "      <td>5500</td>\n",
       "    </tr>\n",
       "    <tr>\n",
       "      <th>131</th>\n",
       "      <td>D SAMONTE STREET</td>\n",
       "      <td>GOV. AGUEDO AGBAYANI ST(NOVALES ST) - JP RIZAL ST</td>\n",
       "      <td>CR</td>\n",
       "      <td>10400</td>\n",
       "    </tr>\n",
       "    <tr>\n",
       "      <th>132</th>\n",
       "      <td>NaN</td>\n",
       "      <td>NaN</td>\n",
       "      <td>RR</td>\n",
       "      <td>8700</td>\n",
       "    </tr>\n",
       "    <tr>\n",
       "      <th>133</th>\n",
       "      <td>F R CASTRO AVENUE</td>\n",
       "      <td>P DE GUAM ST - F R CASTRO</td>\n",
       "      <td>RR</td>\n",
       "      <td>8400</td>\n",
       "    </tr>\n",
       "    <tr>\n",
       "      <th>134</th>\n",
       "      <td>F R CASTRO AVENUE</td>\n",
       "      <td>P. DE GUAM ST. (AGBAYANI ST) -P. GUERRERO ST</td>\n",
       "      <td>RR</td>\n",
       "      <td>8100</td>\n",
       "    </tr>\n",
       "    <tr>\n",
       "      <th>135</th>\n",
       "      <td>NaN</td>\n",
       "      <td>NaN</td>\n",
       "      <td></td>\n",
       "      <td>NaN</td>\n",
       "    </tr>\n",
       "    <tr>\n",
       "      <th>136</th>\n",
       "      <td>NaN</td>\n",
       "      <td>P GUERRERO ST,-DEAD END</td>\n",
       "      <td>RR</td>\n",
       "      <td>6300</td>\n",
       "    </tr>\n",
       "    <tr>\n",
       "      <th>137</th>\n",
       "      <td>NaN</td>\n",
       "      <td>GOV. AGUEDO AGBAYANI ST(NOVALES ST) - P DE GUA...</td>\n",
       "      <td>RR</td>\n",
       "      <td>8200</td>\n",
       "    </tr>\n",
       "    <tr>\n",
       "      <th>138</th>\n",
       "      <td>GEN LUNA ST.</td>\n",
       "      <td>GOV. AGUEDO AGBAYANI ST(NOVALES ST) - DON PERF...</td>\n",
       "      <td>CR</td>\n",
       "      <td>11300</td>\n",
       "    </tr>\n",
       "    <tr>\n",
       "      <th>139</th>\n",
       "      <td>NaN</td>\n",
       "      <td>NaN</td>\n",
       "      <td>RR</td>\n",
       "      <td>9800</td>\n",
       "    </tr>\n",
       "  </tbody>\n",
       "</table>\n",
       "</div>"
      ]
     },
     "execution_count": 12,
     "metadata": {},
     "output_type": "execute_result"
    }
   ],
   "execution_count": 12
  },
  {
   "metadata": {},
   "cell_type": "code",
   "outputs": [],
   "execution_count": null,
   "source": ""
  }
 ],
 "metadata": {
  "application/vnd.databricks.v1+notebook": {
   "dashboards": [],
   "environmentMetadata": null,
   "language": "python",
   "notebookMetadata": {
    "pythonIndentUnit": 4
   },
   "notebookName": "ZV_Scraper",
   "widgets": {}
  },
  "kernelspec": {
   "display_name": "Python 3",
   "language": "python",
   "name": "python3"
  },
  "language_info": {
   "codemirror_mode": {
    "name": "ipython",
    "version": 2
   },
   "file_extension": ".py",
   "mimetype": "text/x-python",
   "name": "python",
   "nbconvert_exporter": "python",
   "pygments_lexer": "ipython2",
   "version": "2.7.6"
  }
 },
 "nbformat": 4,
 "nbformat_minor": 0
}
