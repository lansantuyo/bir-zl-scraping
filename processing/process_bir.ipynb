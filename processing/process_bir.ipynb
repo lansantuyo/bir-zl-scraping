{
 "cells": [
  {
   "cell_type": "code",
   "execution_count": 0,
   "metadata": {
    "ExecuteTime": {
     "end_time": "2025-03-07T08:36:01.786483Z",
     "start_time": "2025-03-07T08:36:01.375840Z"
    },
    "application/vnd.databricks.v1+cell": {
     "cellMetadata": {
      "byteLimit": 2048000,
      "rowLimit": 10000
     },
     "inputWidgets": {},
     "nuid": "646afe3c-477a-4950-80cb-37383a7ff047",
     "showTitle": false,
     "tableResultSettingsMap": {},
     "title": ""
    }
   },
   "outputs": [],
   "source": [
    "from test_functions import *\n",
    "from functions import *\n",
    "from file_manager import *\n",
    "from utils import *"
   ]
  },
  {
   "cell_type": "code",
   "execution_count": 0,
   "metadata": {
    "ExecuteTime": {
     "end_time": "2025-03-07T08:36:01.803812Z",
     "start_time": "2025-03-07T08:36:01.788525Z"
    },
    "application/vnd.databricks.v1+cell": {
     "cellMetadata": {
      "byteLimit": 2048000,
      "rowLimit": 10000
     },
     "inputWidgets": {},
     "nuid": "21c15819-66eb-42c6-a520-be1bdc27d421",
     "showTitle": false,
     "tableResultSettingsMap": {},
     "title": ""
    }
   },
   "outputs": [],
   "source": [
    "file_manager = MusicFileManager()\n",
    "file_manager.filepath_dropdown"
   ]
  },
  {
   "cell_type": "code",
   "execution_count": 0,
   "metadata": {
    "ExecuteTime": {
     "end_time": "2025-03-07T08:36:14.870380Z",
     "start_time": "2025-03-07T08:36:14.674420Z"
    },
    "application/vnd.databricks.v1+cell": {
     "cellMetadata": {
      "byteLimit": 2048000,
      "rowLimit": 10000
     },
     "inputWidgets": {},
     "nuid": "93b5b341-83eb-422d-9fc2-f7551f5fc2a6",
     "showTitle": false,
     "tableResultSettingsMap": {},
     "title": ""
    }
   },
   "outputs": [],
   "source": [
    "file_info = file_manager.selected_file_info\n",
    "df = excel_to_df(file_info[\"filename\"], file_info[\"path\"])"
   ]
  },
  {
   "cell_type": "code",
   "execution_count": 0,
   "metadata": {
    "ExecuteTime": {
     "end_time": "2025-03-07T08:36:20.419535Z",
     "start_time": "2025-03-07T08:36:19.749276Z"
    },
    "application/vnd.databricks.v1+cell": {
     "cellMetadata": {
      "byteLimit": 2048000,
      "rowLimit": 10000
     },
     "inputWidgets": {},
     "nuid": "4cea9656-952a-415f-8c21-eee5eaedd61d",
     "showTitle": false,
     "tableResultSettingsMap": {},
     "title": ""
    }
   },
   "outputs": [],
   "source": [
    "main(df, debug=False, start=0, end=555, debug_location=False, debug_header=False)"
   ]
  },
  {
   "cell_type": "code",
   "execution_count": 0,
   "metadata": {
    "application/vnd.databricks.v1+cell": {
     "cellMetadata": {},
     "inputWidgets": {},
     "nuid": "bc707d1f-fb0b-4077-864e-86b34355c383",
     "showTitle": false,
     "tableResultSettingsMap": {},
     "title": ""
    }
   },
   "outputs": [],
   "source": [
    "parser = argparse.ArgumentParser(description='Compare two Excel files')\n",
    "parser.add_argument('file1', help='Path to the first Excel file')\n",
    "parser.add_argument('file2', help='Path to the second Excel file')\n",
    "parser.add_argument('--output', '-o', help='Path to save the comparison results')\n",
    "\n",
    "args = parser.parse_args()\n",
    "\n",
    "compare_excel_files(args.file1, args.file2, args.output)"
   ]
  }
 ],
 "metadata": {
  "application/vnd.databricks.v1+notebook": {
   "computePreferences": null,
   "dashboards": [],
   "environmentMetadata": null,
   "language": "python",
   "notebookMetadata": {
    "pythonIndentUnit": 4
   },
   "notebookName": "process_bir",
   "widgets": {}
  },
  "kernelspec": {
   "display_name": "Python 3",
   "language": "python",
   "name": "python3"
  },
  "language_info": {
   "name": "python"
  }
 },
 "nbformat": 4,
 "nbformat_minor": 0
}
